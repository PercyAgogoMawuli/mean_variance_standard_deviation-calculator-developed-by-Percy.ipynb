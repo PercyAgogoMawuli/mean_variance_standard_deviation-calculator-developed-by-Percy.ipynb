{
  "nbformat": 4,
  "nbformat_minor": 0,
  "metadata": {
    "colab": {
      "provenance": []
    },
    "kernelspec": {
      "name": "python3",
      "display_name": "Python 3"
    },
    "language_info": {
      "name": "python"
    }
  },
  "cells": [
    {
      "cell_type": "code",
      "execution_count": null,
      "metadata": {
        "id": "dCHR0ybbzyN6"
      },
      "outputs": [],
      "source": [
        "import numpy as np\n",
        "import mean_var_std\n",
        "def calculate(nums):\n",
        "    if len(nums)!=9:\n",
        "        raise ValueError(\"List must contain nine numbers.\")\n",
        "    arr=np.array(nums).reshape(3,3)\n",
        "    results={\n",
        "    'mean':[np.mean(arr, axis=0).tolist(),np.mean(arr,axis=1).tolist(),np.mean(arr).tolist()],\n",
        "    'variance':[np.var(arr, axis=0).tolist(),np.var(arr, axis=1).tolist(),np.var(arr).tolist()],\n",
        "    'standard deviation':[np.std(arr, axis=0).tolist(),np.std(arr, axis=1).tolist(),np.std(arr).tolist()],\n",
        "      'max':[np.max(arr, axis=0).tolist(),np.max(arr, axis=1).tolist(),np.max(arr).tolist()],\n",
        "      'min':[np.min(arr,axis=0).tolist(), np.min(arr, axis=1).tolist(),np.min(arr).tolist()],\n",
        "      'sum': [np.sum(arr, axis=0).tolist(),np.sum(arr, axis=1).tolist(),np.sum(arr).tolist()]}\n",
        "    return results\n",
        "\n",
        "nums=[1,2,3,4,5,6,7,8,9]\n",
        "solution=calculate(nums)\n",
        "print(solution)"
      ]
    }
  ]
}